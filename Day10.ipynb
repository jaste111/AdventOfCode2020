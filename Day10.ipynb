{
 "cells": [
  {
   "cell_type": "code",
   "execution_count": 1,
   "metadata": {
    "collapsed": true
   },
   "outputs": [],
   "source": [
    "from collections import Counter\n",
    "from typing import List"
   ]
  },
  {
   "cell_type": "code",
   "execution_count": 2,
   "outputs": [],
   "source": [
    "def get_puzzle_input()->List:\n",
    "    adapters_list = []\n",
    "    with open(\"Input/Day10.txt\", \"r\") as file:\n",
    "        for line in file.readlines():\n",
    "            adapters_list.append(int(line))\n",
    "    return adapters_list\n"
   ],
   "metadata": {
    "collapsed": false,
    "pycharm": {
     "name": "#%%\n"
    }
   }
  },
  {
   "cell_type": "code",
   "execution_count": 3,
   "outputs": [],
   "source": [
    "# Part 1\n",
    "\n",
    "def get_joltage_differences_distribution() -> float:\n",
    "    adapters_list.append(max(adapters_list) + 3)\n",
    "    adapters_list.sort()\n",
    "\n",
    "    distribution = []\n",
    "\n",
    "    first_adapter = 0\n",
    "    for adapter in adapters_list:\n",
    "        distribution.append(adapter - first_adapter)\n",
    "        first_adapter = adapter\n",
    "\n",
    "    distribution_counter = Counter(distribution)\n",
    "\n",
    "    return distribution_counter[1] * distribution_counter[3]"
   ],
   "metadata": {
    "collapsed": false,
    "pycharm": {
     "name": "#%%\n"
    }
   }
  },
  {
   "cell_type": "code",
   "execution_count": 5,
   "outputs": [
    {
     "name": "stdout",
     "output_type": "stream",
     "text": [
      "The result of number of 1-jolt multiplied with number of 3-jolt differences is 1820\n"
     ]
    }
   ],
   "source": [
    "adapters_list = get_puzzle_input()\n",
    "result = get_joltage_differences_distribution()\n",
    "print(f\"The result of number of 1-jolt multiplied with number of 3-jolt differences is {result}\")"
   ],
   "metadata": {
    "collapsed": false,
    "pycharm": {
     "name": "#%%\n"
    }
   }
  },
  {
   "cell_type": "code",
   "execution_count": 4,
   "outputs": [],
   "source": [],
   "metadata": {
    "collapsed": false,
    "pycharm": {
     "name": "#%%\n"
    }
   }
  }
 ],
 "metadata": {
  "kernelspec": {
   "display_name": "Python 3",
   "language": "python",
   "name": "python3"
  },
  "language_info": {
   "codemirror_mode": {
    "name": "ipython",
    "version": 2
   },
   "file_extension": ".py",
   "mimetype": "text/x-python",
   "name": "python",
   "nbconvert_exporter": "python",
   "pygments_lexer": "ipython2",
   "version": "2.7.6"
  }
 },
 "nbformat": 4,
 "nbformat_minor": 0
}