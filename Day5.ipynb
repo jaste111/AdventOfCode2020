{
 "cells": [
  {
   "cell_type": "code",
   "execution_count": 1,
   "metadata": {
    "collapsed": true
   },
   "outputs": [],
   "source": [
    "def read_input():\n",
    "    with open(\"Input/Day5.txt\") as file:\n",
    "        # Input has to contain blank line at the end\n",
    "        return [line[:-1] for line in file.readlines()]\n",
    "\n",
    "input_day5 = read_input()"
   ]
  },
  {
   "cell_type": "code",
   "execution_count": 2,
   "outputs": [],
   "source": [
    "# Part 1\n",
    "def find_seat_id(seat: str) -> int:\n",
    "    rows = seat[:7]\n",
    "    column = seat[7:]\n",
    "    rows_dec = int(\"\".join(list(map(lambda x: \"1\" if x == 'B' else \"0\", list(rows)))),2)\n",
    "    column_dec = int(\"\".join(list(map(lambda x: \"1\" if x == 'R' else \"0\", list(column)))),2)\n",
    "    return rows_dec * 8 + column_dec"
   ],
   "metadata": {
    "collapsed": false,
    "pycharm": {
     "name": "#%%\n"
    }
   }
  },
  {
   "cell_type": "code",
   "execution_count": 3,
   "outputs": [
    {
     "name": "stdout",
     "output_type": "stream",
     "text": [
      "The highest seat id is: 913\n"
     ]
    }
   ],
   "source": [
    "highest_seat_id = max(map(find_seat_id, input_day5))\n",
    "print(f\"The highest seat id is: {highest_seat_id}\")"
   ],
   "metadata": {
    "collapsed": false,
    "pycharm": {
     "name": "#%%\n"
    }
   }
  },
  {
   "cell_type": "code",
   "execution_count": 3,
   "outputs": [],
   "source": [],
   "metadata": {
    "collapsed": false,
    "pycharm": {
     "name": "#%%\n"
    }
   }
  }
 ],
 "metadata": {
  "kernelspec": {
   "display_name": "Python 3",
   "language": "python",
   "name": "python3"
  },
  "language_info": {
   "codemirror_mode": {
    "name": "ipython",
    "version": 2
   },
   "file_extension": ".py",
   "mimetype": "text/x-python",
   "name": "python",
   "nbconvert_exporter": "python",
   "pygments_lexer": "ipython2",
   "version": "2.7.6"
  }
 },
 "nbformat": 4,
 "nbformat_minor": 0
}