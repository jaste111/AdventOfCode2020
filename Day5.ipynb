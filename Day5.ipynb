{
 "cells": [
  {
   "cell_type": "code",
   "execution_count": 1,
   "metadata": {
    "collapsed": true
   },
   "outputs": [],
   "source": [
    "def read_input():\n",
    "    with open(\"Input/Day5.txt\") as file:\n",
    "        # Input has to contain blank line at the end\n",
    "        raw_input =  file.readlines()\n",
    "        parsed_input = [line[:-1] for line in raw_input[:-1]]\n",
    "        parsed_input.append(raw_input[-1])\n",
    "        return parsed_input\n",
    "\n",
    "input_day5 = read_input()"
   ]
  },
  {
   "cell_type": "code",
   "execution_count": 2,
   "outputs": [],
   "source": [
    "# Part 1\n",
    "def find_seat_id(seat: str) -> int:\n",
    "    rows = seat[:7]\n",
    "    column = seat[7:]\n",
    "    rows_dec = int(\"\".join(list(map(lambda x: \"1\" if x == 'B' else \"0\", list(rows)))),2)\n",
    "    column_dec = int(\"\".join(list(map(lambda x: \"1\" if x == 'R' else \"0\", list(column)))),2)\n",
    "    return rows_dec * 8 + column_dec"
   ],
   "metadata": {
    "collapsed": false,
    "pycharm": {
     "name": "#%%\n"
    }
   }
  },
  {
   "cell_type": "code",
   "execution_count": 3,
   "outputs": [
    {
     "name": "stdout",
     "output_type": "stream",
     "text": [
      "The highest seat id is: 913\n"
     ]
    }
   ],
   "source": [
    "highest_seat_id = max(map(find_seat_id, input_day5))\n",
    "print(f\"The highest seat id is: {highest_seat_id}\")"
   ],
   "metadata": {
    "collapsed": false,
    "pycharm": {
     "name": "#%%\n"
    }
   }
  },
  {
   "cell_type": "code",
   "execution_count": 4,
   "outputs": [],
   "source": [
    "# Part 2\n",
    "seat_ids_list = list(map(find_seat_id, input_day5))"
   ],
   "metadata": {
    "collapsed": false,
    "pycharm": {
     "name": "#%%\n"
    }
   }
  },
  {
   "cell_type": "code",
   "execution_count": 5,
   "outputs": [],
   "source": [
    "from typing import List\n",
    "def find_missing_seat(seats_list: List) -> int:\n",
    "    seats_list.sort(key=lambda x: x)\n",
    "    for i in range(len(seats_list)-1):\n",
    "        diff = seats_list[i+1] - seats_list[i]\n",
    "        if diff > 1:\n",
    "            return seats_list[i+1] - 1"
   ],
   "metadata": {
    "collapsed": false,
    "pycharm": {
     "name": "#%%\n"
    }
   }
  },
  {
   "cell_type": "code",
   "execution_count": 6,
   "outputs": [
    {
     "name": "stdout",
     "output_type": "stream",
     "text": [
      "My seat id is : 717\n"
     ]
    }
   ],
   "source": [
    "missing_seat = find_missing_seat(seat_ids_list)\n",
    "print(f\"My seat id is : {missing_seat}\")"
   ],
   "metadata": {
    "collapsed": false,
    "pycharm": {
     "name": "#%%\n"
    }
   }
  },
  {
   "cell_type": "code",
   "execution_count": 6,
   "outputs": [],
   "source": [],
   "metadata": {
    "collapsed": false,
    "pycharm": {
     "name": "#%%\n"
    }
   }
  }
 ],
 "metadata": {
  "kernelspec": {
   "display_name": "Python 3",
   "language": "python",
   "name": "python3"
  },
  "language_info": {
   "codemirror_mode": {
    "name": "ipython",
    "version": 2
   },
   "file_extension": ".py",
   "mimetype": "text/x-python",
   "name": "python",
   "nbconvert_exporter": "python",
   "pygments_lexer": "ipython2",
   "version": "2.7.6"
  }
 },
 "nbformat": 4,
 "nbformat_minor": 0
}