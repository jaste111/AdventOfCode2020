{
 "cells": [
  {
   "cell_type": "code",
   "execution_count": 1,
   "metadata": {
    "collapsed": true
   },
   "outputs": [],
   "source": [
    "# Read input\n",
    "from functools import reduce\n",
    "from typing import List\n",
    "def read_input() -> List:\n",
    "    # Important!!! Input file must contain '\\n' in the last line\n",
    "    with open(\"Input/Day3.txt\") as file:\n",
    "        return [list(row[:-1]) for row in file.readlines()]"
   ]
  },
  {
   "cell_type": "code",
   "execution_count": 2,
   "outputs": [],
   "source": [
    "def mark_tree(row: List, x_coord: int) -> List:\n",
    "    if row[x_coord] == '#':\n",
    "        row[x_coord] = 'X'\n",
    "    else:\n",
    "        row[x_coord] = 'O'\n",
    "    return row"
   ],
   "metadata": {
    "collapsed": false,
    "pycharm": {
     "name": "#%%\n"
    }
   }
  },
  {
   "cell_type": "code",
   "execution_count": 3,
   "outputs": [],
   "source": [
    "def mark_forest(vertical_slope: int, horizontal_slope: int, forest: List) -> List:\n",
    "    marked_forest = []\n",
    "    x_coordinate = 0\n",
    "    for row in forest[::vertical_slope]:\n",
    "        x_coordinate = x_coordinate % len(row)\n",
    "        marked_forest.append(mark_tree(row, x_coordinate))\n",
    "        x_coordinate = x_coordinate + horizontal_slope\n",
    "    return marked_forest"
   ],
   "metadata": {
    "collapsed": false,
    "pycharm": {
     "name": "#%%\n"
    }
   }
  },
  {
   "cell_type": "code",
   "execution_count": 4,
   "outputs": [],
   "source": [
    "from collections import Counter\n",
    "def count_trees(slope: tuple) -> int:\n",
    "    day_3_input = read_input()\n",
    "    forest = mark_forest(horizontal_slope=slope[0], vertical_slope=slope[1], forest=day_3_input)\n",
    "    forest_counted = list(map(Counter, forest))\n",
    "    return sum(map(lambda x: x['X'], forest_counted))"
   ],
   "metadata": {
    "collapsed": false,
    "pycharm": {
     "name": "#%%\n"
    }
   }
  },
  {
   "cell_type": "code",
   "execution_count": 5,
   "outputs": [
    {
     "name": "stdout",
     "output_type": "stream",
     "text": [
      "Number of trees: 159\n"
     ]
    }
   ],
   "source": [
    "# Part 1\n",
    "slope_part1 = (3,1)\n",
    "trees_counted = count_trees(slope=slope_part1)\n",
    "print(f\"Number of trees: {trees_counted}\")"
   ],
   "metadata": {
    "collapsed": false,
    "pycharm": {
     "name": "#%%\n"
    }
   }
  },
  {
   "cell_type": "code",
   "execution_count": 6,
   "outputs": [
    {
     "name": "stdout",
     "output_type": "stream",
     "text": [
      "Result for muliplied number of trees on each slope: 6419669520\n"
     ]
    }
   ],
   "source": [
    "# Part 2\n",
    "\n",
    "slopes = [(1,1), (3,1), (5,1), (7,1), (1,2)]\n",
    "tress_counted_list = list(map(count_trees, slopes))\n",
    "all_trees_counter = reduce(lambda x,y: x * y, tress_counted_list)\n",
    "\n",
    "print(f\"Result for muliplied number of trees on each slope: {all_trees_counter}\")"
   ],
   "metadata": {
    "collapsed": false,
    "pycharm": {
     "name": "#%%\n"
    }
   }
  },
  {
   "cell_type": "code",
   "execution_count": 6,
   "outputs": [],
   "source": [],
   "metadata": {
    "collapsed": false,
    "pycharm": {
     "name": "#%%\n"
    }
   }
  }
 ],
 "metadata": {
  "kernelspec": {
   "display_name": "Python 3",
   "language": "python",
   "name": "python3"
  },
  "language_info": {
   "codemirror_mode": {
    "name": "ipython",
    "version": 2
   },
   "file_extension": ".py",
   "mimetype": "text/x-python",
   "name": "python",
   "nbconvert_exporter": "python",
   "pygments_lexer": "ipython2",
   "version": "2.7.6"
  }
 },
 "nbformat": 4,
 "nbformat_minor": 0
}