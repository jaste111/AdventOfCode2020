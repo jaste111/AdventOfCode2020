{
 "cells": [
  {
   "cell_type": "code",
   "execution_count": 70,
   "metadata": {
    "collapsed": true
   },
   "outputs": [],
   "source": [
    "# Read input\n",
    "from typing import List\n",
    "\n",
    "day_3_input = []\n",
    "\n",
    "with open(\"Input/Day3.txt\") as file:\n",
    "    day_3_input = [list(row[:-1]) for row in file.readlines()]"
   ]
  },
  {
   "cell_type": "code",
   "execution_count": 71,
   "outputs": [],
   "source": [
    "# Part 1\n",
    "def mark_tree(row: List, x_coord: int) -> List:\n",
    "    if row[x_coord] == '#':\n",
    "        row[x_coord] = 'X'\n",
    "    else:\n",
    "        row[x_coord] = 'O'\n",
    "    return row"
   ],
   "metadata": {
    "collapsed": false,
    "pycharm": {
     "name": "#%%\n"
    }
   }
  },
  {
   "cell_type": "code",
   "execution_count": 72,
   "outputs": [],
   "source": [
    "forest_marked = [day_3_input[0]]\n",
    "x_coordinate = 0\n",
    "for row in day_3_input[1:]:\n",
    "    x_coordinate = (x_coordinate + 3 ) % len(row)\n",
    "    forest_marked.append(mark_tree(row, x_coordinate))"
   ],
   "metadata": {
    "collapsed": false,
    "pycharm": {
     "name": "#%%\n"
    }
   }
  },
  {
   "cell_type": "code",
   "execution_count": 73,
   "outputs": [
    {
     "name": "stdout",
     "output_type": "stream",
     "text": [
      "Number of trees: 159\n"
     ]
    }
   ],
   "source": [
    "from collections import Counter\n",
    "\n",
    "forest_counted = list(map(Counter, forest_marked))\n",
    "trees_counted = sum(map(lambda x: x['X'], forest_counted))\n",
    "\n",
    "print(f\"Number of trees: {trees_counted}\")"
   ],
   "metadata": {
    "collapsed": false,
    "pycharm": {
     "name": "#%%\n"
    }
   }
  },
  {
   "cell_type": "code",
   "execution_count": 73,
   "outputs": [],
   "source": [],
   "metadata": {
    "collapsed": false,
    "pycharm": {
     "name": "#%%\n"
    }
   }
  }
 ],
 "metadata": {
  "kernelspec": {
   "display_name": "Python 3",
   "language": "python",
   "name": "python3"
  },
  "language_info": {
   "codemirror_mode": {
    "name": "ipython",
    "version": 2
   },
   "file_extension": ".py",
   "mimetype": "text/x-python",
   "name": "python",
   "nbconvert_exporter": "python",
   "pygments_lexer": "ipython2",
   "version": "2.7.6"
  }
 },
 "nbformat": 4,
 "nbformat_minor": 0
}