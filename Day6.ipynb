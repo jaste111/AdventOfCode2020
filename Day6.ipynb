{
 "cells": [
  {
   "cell_type": "code",
   "execution_count": 1,
   "metadata": {
    "collapsed": true
   },
   "outputs": [],
   "source": [
    "from collections import Counter\n",
    "def read_input():\n",
    "    with open(\"Input/Day6.txt\") as file:\n",
    "        file_input = file.readlines()\n",
    "        raw_input = [line[:-1] for line in file_input[:-1]]\n",
    "        raw_input.append(file_input[-1])\n",
    "        return raw_input"
   ]
  },
  {
   "cell_type": "code",
   "execution_count": 2,
   "outputs": [],
   "source": [
    "input_day6 = read_input()"
   ],
   "metadata": {
    "collapsed": false,
    "pycharm": {
     "name": "#%%\n"
    }
   }
  },
  {
   "cell_type": "code",
   "execution_count": 3,
   "outputs": [],
   "source": [
    "# Group answers\n",
    "\n",
    "blank_indexes = [x for x, z in enumerate(input_day6) if z == '']\n",
    "blank_indexes.insert(0,-1)\n",
    "\n",
    "group_indexes = list(zip(blank_indexes[:-1], blank_indexes[1:]))\n",
    "groups = [input_day6[start+1:end] for (start, end) in group_indexes]\n",
    "groups.append(input_day6[group_indexes[-1][1]+1:])"
   ],
   "metadata": {
    "collapsed": false,
    "pycharm": {
     "name": "#%%\n"
    }
   }
  },
  {
   "cell_type": "code",
   "execution_count": 4,
   "outputs": [],
   "source": [
    "# Part 1\n",
    "group_answers = [\"\".join(group) for group in groups]\n",
    "\n",
    "count_group_answers = list(map(Counter, group_answers))\n",
    "count_sum = sum([len(count_group_answer.keys()) for count_group_answer in count_group_answers])"
   ],
   "metadata": {
    "collapsed": false,
    "pycharm": {
     "name": "#%%\n"
    }
   }
  },
  {
   "cell_type": "code",
   "execution_count": 5,
   "outputs": [
    {
     "name": "stdout",
     "output_type": "stream",
     "text": [
      "The sum of counts is: 6534\n"
     ]
    }
   ],
   "source": [
    "print(f\"The sum of counts is: {count_sum}\")\n"
   ],
   "metadata": {
    "collapsed": false,
    "pycharm": {
     "name": "#%%\n"
    }
   }
  },
  {
   "cell_type": "code",
   "execution_count": 6,
   "outputs": [
    {
     "name": "stdout",
     "output_type": "stream",
     "text": [
      "Result: 3402\n"
     ]
    }
   ],
   "source": [
    "# Part 2\n",
    "group_answers_with_size = list(zip(count_group_answers,map(len, groups)))\n",
    "group_answers_everyone = []\n",
    "for group in group_answers_with_size:\n",
    "    group_counter = group[0]\n",
    "    group_size = group[1]\n",
    "    [group_answers_everyone.append(key) for key in group_counter.keys() if group_counter[key] == group_size]\n",
    "print(f\"Result: {len(group_answers_everyone)}\")"
   ],
   "metadata": {
    "collapsed": false,
    "pycharm": {
     "name": "#%%\n"
    }
   }
  },
  {
   "cell_type": "code",
   "execution_count": 6,
   "outputs": [],
   "source": [],
   "metadata": {
    "collapsed": false,
    "pycharm": {
     "name": "#%%\n"
    }
   }
  }
 ],
 "metadata": {
  "kernelspec": {
   "display_name": "Python 3",
   "language": "python",
   "name": "python3"
  },
  "language_info": {
   "codemirror_mode": {
    "name": "ipython",
    "version": 2
   },
   "file_extension": ".py",
   "mimetype": "text/x-python",
   "name": "python",
   "nbconvert_exporter": "python",
   "pygments_lexer": "ipython2",
   "version": "2.7.6"
  }
 },
 "nbformat": 4,
 "nbformat_minor": 0
}