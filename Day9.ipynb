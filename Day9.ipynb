{
 "cells": [
  {
   "cell_type": "code",
   "execution_count": 9,
   "metadata": {
    "collapsed": true
   },
   "outputs": [],
   "source": [
    "from typing import List\n",
    "import math\n",
    "PREAMBLE_LENGTH = 25"
   ]
  },
  {
   "cell_type": "code",
   "execution_count": 10,
   "outputs": [],
   "source": [
    "def read_input():\n",
    "    raw_input = []\n",
    "    with open(\"Input/Day9.txt\", \"r\") as file:\n",
    "        for line in file.readlines():\n",
    "            raw_input.append(int(line))\n",
    "        return raw_input"
   ],
   "metadata": {
    "collapsed": false,
    "pycharm": {
     "name": "#%%\n"
    }
   }
  },
  {
   "cell_type": "code",
   "execution_count": 11,
   "outputs": [],
   "source": [
    "xmas_numbers = read_input()"
   ],
   "metadata": {
    "collapsed": false,
    "pycharm": {
     "name": "#%%\n"
    }
   }
  },
  {
   "cell_type": "code",
   "execution_count": 12,
   "outputs": [],
   "source": [
    "def is_invalid_number(praemble: List, number: int) -> bool:\n",
    "    sum_parts = [abs(number - praemble_number) for praemble_number in praemble]\n",
    "    is_number_present = list(map(lambda x: x not in praemble, sum_parts))\n",
    "    return all(is_number_present)\n"
   ],
   "metadata": {
    "collapsed": false,
    "pycharm": {
     "name": "#%%\n"
    }
   }
  },
  {
   "cell_type": "code",
   "execution_count": 13,
   "outputs": [],
   "source": [
    "# Part 1\n",
    "\n",
    "def find_invalid_number():\n",
    "    for index in range(len(xmas_numbers) - PREAMBLE_LENGTH):\n",
    "        preamble = xmas_numbers[index:index+PREAMBLE_LENGTH]\n",
    "        current_number = xmas_numbers[index+PREAMBLE_LENGTH]\n",
    "        if is_invalid_number(praemble=preamble, number=current_number):\n",
    "            return current_number"
   ],
   "metadata": {
    "collapsed": false,
    "pycharm": {
     "name": "#%%\n"
    }
   }
  },
  {
   "cell_type": "code",
   "execution_count": 14,
   "outputs": [
    {
     "name": "stdout",
     "output_type": "stream",
     "text": [
      "The invalid number is 756008079\n"
     ]
    }
   ],
   "source": [
    "invalid_number = find_invalid_number()\n",
    "print(f\"The invalid number is {invalid_number}\")"
   ],
   "metadata": {
    "collapsed": false,
    "pycharm": {
     "name": "#%%\n"
    }
   }
  },
  {
   "cell_type": "code",
   "execution_count": 21,
   "outputs": [],
   "source": [
    "# Part 2\n",
    "def find_encryption_weakness() -> [int, int]:\n",
    "    set_size = 2\n",
    "    current_number = 0\n",
    "    result_set = []\n",
    "    while invalid_number != current_number:\n",
    "        for index in range(len(xmas_numbers)):\n",
    "            current_number = sum(xmas_numbers[index:index+set_size])\n",
    "            if current_number == invalid_number:\n",
    "                result_set =  sorted(xmas_numbers[index: index+set_size])\n",
    "                break\n",
    "        set_size += 1\n",
    "    return result_set[0] + result_set[-1]"
   ],
   "metadata": {
    "collapsed": false,
    "pycharm": {
     "name": "#%%\n"
    }
   }
  },
  {
   "cell_type": "code",
   "execution_count": 22,
   "outputs": [
    {
     "name": "stdout",
     "output_type": "stream",
     "text": [
      "93727241\n"
     ]
    }
   ],
   "source": [
    "number_set = find_encryption_weakness()\n",
    "print(number_set)"
   ],
   "metadata": {
    "collapsed": false,
    "pycharm": {
     "name": "#%%\n"
    }
   }
  },
  {
   "cell_type": "code",
   "execution_count": 16,
   "outputs": [],
   "source": [],
   "metadata": {
    "collapsed": false,
    "pycharm": {
     "name": "#%%\n"
    }
   }
  }
 ],
 "metadata": {
  "kernelspec": {
   "display_name": "Python 3",
   "language": "python",
   "name": "python3"
  },
  "language_info": {
   "codemirror_mode": {
    "name": "ipython",
    "version": 2
   },
   "file_extension": ".py",
   "mimetype": "text/x-python",
   "name": "python",
   "nbconvert_exporter": "python",
   "pygments_lexer": "ipython2",
   "version": "2.7.6"
  }
 },
 "nbformat": 4,
 "nbformat_minor": 0
}