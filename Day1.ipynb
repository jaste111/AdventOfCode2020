{
 "cells": [
  {
   "cell_type": "code",
   "execution_count": 18,
   "metadata": {
    "collapsed": true
   },
   "outputs": [],
   "source": [
    "day1_input = []\n",
    "with open(\"Input/Day1.txt\") as file:\n",
    "    day1_input = [int(row[:-1]) for row in file.readlines()]"
   ]
  },
  {
   "cell_type": "code",
   "execution_count": 19,
   "outputs": [
    {
     "name": "stdout",
     "output_type": "stream",
     "text": [
      " Solution for part1: 1018944\n",
      "CPU times: user 2.66 ms, sys: 0 ns, total: 2.66 ms\n",
      "Wall time: 2.63 ms\n"
     ]
    }
   ],
   "source": [
    "%%time\n",
    "# Solution for part1\n",
    "index_1 = 0\n",
    "index_2 = 1\n",
    "\n",
    "for index_1 in range(len(day1_input)):\n",
    "    for index_2 in range(index_1+1, len(day1_input)):\n",
    "        if day1_input[index_1] + day1_input[index_2] == 2020:\n",
    "            print(f\" Solution for part1: {day1_input[index_1] * day1_input[index_2]}\")\n",
    "            break"
   ],
   "metadata": {
    "collapsed": false,
    "pycharm": {
     "name": "#%%\n"
    }
   }
  },
  {
   "cell_type": "code",
   "execution_count": 20,
   "outputs": [
    {
     "name": "stdout",
     "output_type": "stream",
     "text": [
      "Solution for part2: 8446464\n",
      "CPU times: user 211 ms, sys: 0 ns, total: 211 ms\n",
      "Wall time: 210 ms\n"
     ]
    }
   ],
   "source": [
    "%%time\n",
    "# Solution for part 2\n",
    "for index_1 in range(len(day1_input)):\n",
    "    for index_2 in range(index_1+1, len(day1_input)):\n",
    "        for index_3 in range(index_2 + 1, len(day1_input)):\n",
    "           if day1_input[index_1] + day1_input[index_2] + day1_input[index_3] == 2020:\n",
    "                print(f\"Solution for part2: {day1_input[index_1] * day1_input[index_2] * day1_input[index_3]}\")\n",
    "                break"
   ],
   "metadata": {
    "collapsed": false,
    "pycharm": {
     "name": "#%%\n"
    }
   }
  }
 ],
 "metadata": {
  "kernelspec": {
   "display_name": "Python 3",
   "language": "python",
   "name": "python3"
  },
  "language_info": {
   "codemirror_mode": {
    "name": "ipython",
    "version": 2
   },
   "file_extension": ".py",
   "mimetype": "text/x-python",
   "name": "python",
   "nbconvert_exporter": "python",
   "pygments_lexer": "ipython2",
   "version": "2.7.6"
  }
 },
 "nbformat": 4,
 "nbformat_minor": 0
}