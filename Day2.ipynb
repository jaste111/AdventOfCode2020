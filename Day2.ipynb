{
 "cells": [
  {
   "cell_type": "code",
   "execution_count": 1,
   "metadata": {
    "collapsed": true
   },
   "outputs": [],
   "source": [
    "day2_input = []\n",
    "with open(\"Input/Day2.txt\") as file:\n",
    "    day2_input = [row[:-1] for row in file.readlines()]"
   ]
  },
  {
   "cell_type": "code",
   "execution_count": 2,
   "outputs": [
    {
     "name": "stdout",
     "output_type": "stream",
     "text": [
      "Number of valid passwords for part 1: 474\n"
     ]
    }
   ],
   "source": [
    "from collections import Counter\n",
    "# Par1\n",
    "valid_passwords_part_1 =[]\n",
    "for row in day2_input:\n",
    "    row_parts = row.split(\" \")\n",
    "    min_policy = int(row_parts[0].split(\"-\")[0])\n",
    "    max_policy = int(row_parts[0].split(\"-\")[1])\n",
    "    policy_character = row_parts[1][0]\n",
    "    password = row_parts[2]\n",
    "    password_parts_counter = Counter(password)\n",
    "    if  min_policy <= password_parts_counter[policy_character] <= max_policy:\n",
    "        valid_passwords_part_1.append(password)\n",
    "\n",
    "print(f\"Number of valid passwords for part 1: {len(valid_passwords_part_1)}\")"
   ],
   "metadata": {
    "collapsed": false,
    "pycharm": {
     "name": "#%%\n"
    }
   }
  },
  {
   "cell_type": "code",
   "execution_count": 3,
   "outputs": [
    {
     "name": "stdout",
     "output_type": "stream",
     "text": [
      "Number of valid password for part2: 745\n"
     ]
    }
   ],
   "source": [
    "# Part2\n",
    "valid_passwords_part_2 = []\n",
    "for row in day2_input:\n",
    "    row_parts = row.split(\" \")\n",
    "    first_position = int(row_parts[0].split(\"-\")[0])\n",
    "    second_position = int(row_parts[0].split(\"-\")[1])\n",
    "    policy_character = row_parts[1][0]\n",
    "    password = row_parts[2]\n",
    "    if (password[first_position - 1] == policy_character) != (policy_character == password[second_position - 1]):\n",
    "        valid_passwords_part_2.append(password)\n",
    "\n",
    "print(f\"Number of valid password for part2: {len(valid_passwords_part_2)}\")\n",
    "\n"
   ],
   "metadata": {
    "collapsed": false,
    "pycharm": {
     "name": "#%%\n"
    }
   }
  },
  {
   "cell_type": "code",
   "execution_count": 4,
   "outputs": [],
   "source": [
    "#Improved solution\n",
    "\n",
    "def is_valid_password(row: str) -> str:\n",
    "    row_parts = row.split(\" \")\n",
    "    min_policy = int(row_parts[0].split(\"-\")[0])\n",
    "    max_policy = int(row_parts[0].split(\"-\")[1])\n",
    "    policy_character = row_parts[1][0]\n",
    "    password = row_parts[2]\n",
    "    password_parts_counter = Counter(password)\n",
    "    if  min_policy <= password_parts_counter[policy_character] <= max_policy:\n",
    "        return password"
   ],
   "metadata": {
    "collapsed": false,
    "pycharm": {
     "name": "#%%\n"
    }
   }
  },
  {
   "cell_type": "code",
   "execution_count": 10,
   "outputs": [
    {
     "name": "stdout",
     "output_type": "stream",
     "text": [
      "Number of valid passwords for part 1: 474\n"
     ]
    }
   ],
   "source": [
    "valid_passwords_part_1_2 = list(filter(lambda x: x,map(is_valid_password, day2_input)))\n",
    "print(f\"Number of valid passwords for part 1: {len(valid_passwords_part_1_2)}\")\n"
   ],
   "metadata": {
    "collapsed": false,
    "pycharm": {
     "name": "#%%\n"
    }
   }
  },
  {
   "cell_type": "code",
   "execution_count": null,
   "outputs": [],
   "source": [],
   "metadata": {
    "collapsed": false,
    "pycharm": {
     "name": "#%%\n"
    }
   }
  }
 ],
 "metadata": {
  "kernelspec": {
   "display_name": "Python 3",
   "language": "python",
   "name": "python3"
  },
  "language_info": {
   "codemirror_mode": {
    "name": "ipython",
    "version": 2
   },
   "file_extension": ".py",
   "mimetype": "text/x-python",
   "name": "python",
   "nbconvert_exporter": "python",
   "pygments_lexer": "ipython2",
   "version": "2.7.6"
  }
 },
 "nbformat": 4,
 "nbformat_minor": 0
}