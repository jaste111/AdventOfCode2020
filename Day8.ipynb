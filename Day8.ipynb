{
 "cells": [
  {
   "cell_type": "code",
   "execution_count": 1,
   "metadata": {
    "collapsed": true
   },
   "outputs": [],
   "source": [
    "from typing import List"
   ]
  },
  {
   "cell_type": "code",
   "execution_count": 2,
   "outputs": [],
   "source": [
    "def parse_input():\n",
    "    instructions_list = []\n",
    "    with open(\"Input/Day8.txt\", \"r\") as file:\n",
    "        for line in file.readlines():\n",
    "            command_parts = line.split(\" \")\n",
    "            instructions_list.append({\"command\": command_parts[0], \"argument\": int(command_parts[1]), \"is_visited\": False})\n",
    "    return instructions_list\n"
   ],
   "metadata": {
    "collapsed": false,
    "pycharm": {
     "name": "#%%\n"
    }
   }
  },
  {
   "cell_type": "code",
   "execution_count": 3,
   "outputs": [],
   "source": [
    "def get_accumulator(instructions: List, index: int = 0 ,accumulator: int = 0) -> [int, int]:\n",
    "    if index >= len(instructions):\n",
    "        return accumulator\n",
    "    instruction = instructions[index]\n",
    "    if instruction[\"is_visited\"]:\n",
    "        return accumulator\n",
    "    elif index == len(instructions):\n",
    "        return accumulator\n",
    "\n",
    "    instruction[\"is_visited\"] = True\n",
    "\n",
    "    argument = instruction[\"argument\"]\n",
    "    command = instruction[\"command\"]\n",
    "    if command == \"acc\":\n",
    "        accumulator += argument\n",
    "        next_index = index + 1\n",
    "        return get_accumulator(instructions, index=next_index, accumulator = accumulator)\n",
    "    elif command == \"jmp\":\n",
    "        next_index = index + argument\n",
    "        return get_accumulator(instructions, index=next_index, accumulator = accumulator)\n",
    "    else:\n",
    "        next_index = index + 1\n",
    "        return get_accumulator(instructions, index=next_index, accumulator = accumulator)"
   ],
   "metadata": {
    "collapsed": false,
    "pycharm": {
     "name": "#%%\n"
    }
   }
  },
  {
   "cell_type": "code",
   "execution_count": 4,
   "outputs": [
    {
     "name": "stdout",
     "output_type": "stream",
     "text": [
      "The value of the accumulator is None\n"
     ]
    }
   ],
   "source": [
    "# Part 1\n",
    "\n",
    "instructions_input = parse_input()\n",
    "accumulator_result = get_accumulator(instructions=instructions_input)\n",
    "print(f\"The value of the accumulator is {accumulator_result}\")"
   ],
   "metadata": {
    "collapsed": false,
    "pycharm": {
     "name": "#%%\n"
    }
   }
  },
  {
   "cell_type": "code",
   "execution_count": 7,
   "outputs": [],
   "source": [
    "# part 2\n",
    "\n",
    "def fix_instructions() -> int:\n",
    "    accumulator = 0\n",
    "    for index in range(len(instructions_input)):\n",
    "        reseted_instructions = parse_input()\n",
    "        command = reseted_instructions[index][\"command\"]\n",
    "        if command == \"nop\":\n",
    "            reseted_instructions[index][\"command\"] = \"jmp\"\n",
    "        elif command == \"jmp\":\n",
    "            reseted_instructions[index][\"command\"] = \"nop\"\n",
    "            \n",
    "        accumulator = get_accumulator(instructions=reseted_instructions)\n",
    "\n",
    "        if reseted_instructions[len(reseted_instructions) - 1][\"is_visited\"]:\n",
    "            break\n",
    "\n",
    "    return accumulator\n",
    "\n"
   ],
   "metadata": {
    "collapsed": false,
    "pycharm": {
     "name": "#%%\n"
    }
   }
  },
  {
   "cell_type": "code",
   "execution_count": 8,
   "outputs": [
    {
     "name": "stdout",
     "output_type": "stream",
     "text": [
      "The result of the accumlator is: 920\n"
     ]
    }
   ],
   "source": [
    "fixed_instructions_accumulator = fix_instructions()\n",
    "print(f\"The result of the accumlator is: {fixed_instructions_accumulator}\")"
   ],
   "metadata": {
    "collapsed": false,
    "pycharm": {
     "name": "#%%\n"
    }
   }
  },
  {
   "cell_type": "code",
   "execution_count": 6,
   "outputs": [],
   "source": [],
   "metadata": {
    "collapsed": false,
    "pycharm": {
     "name": "#%%\n"
    }
   }
  }
 ],
 "metadata": {
  "kernelspec": {
   "display_name": "Python 3",
   "language": "python",
   "name": "python3"
  },
  "language_info": {
   "codemirror_mode": {
    "name": "ipython",
    "version": 2
   },
   "file_extension": ".py",
   "mimetype": "text/x-python",
   "name": "python",
   "nbconvert_exporter": "python",
   "pygments_lexer": "ipython2",
   "version": "2.7.6"
  }
 },
 "nbformat": 4,
 "nbformat_minor": 0
}