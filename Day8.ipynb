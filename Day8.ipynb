{
 "cells": [
  {
   "cell_type": "code",
   "execution_count": 1,
   "metadata": {
    "collapsed": true
   },
   "outputs": [],
   "source": [
    "def parse_input():\n",
    "    instructions_list = []\n",
    "    with open(\"Input/Day8.txt\", \"r\") as file:\n",
    "        for line in file.readlines():\n",
    "            command_parts = line.split(\" \")\n",
    "            instructions_list.append({\"command\": command_parts[0], \"argument\": int(command_parts[1]), \"is_visited\": False})\n",
    "    return instructions_list\n"
   ]
  },
  {
   "cell_type": "code",
   "execution_count": 2,
   "outputs": [],
   "source": [
    "def get_accumulator(instruction: dict, index: int = 0 ,accumulator: int = 0) -> int:\n",
    "    if instruction[\"is_visited\"]:\n",
    "        return accumulator\n",
    "\n",
    "    instruction[\"is_visited\"] = True\n",
    "\n",
    "    argument = instruction[\"argument\"]\n",
    "    command = instruction[\"command\"]\n",
    "    if command == \"acc\":\n",
    "        accumulator += argument\n",
    "        next_index = index+1\n",
    "        return get_accumulator(instruction = instructions[next_index],index=next_index, accumulator = accumulator)\n",
    "    elif command == \"jmp\":\n",
    "        next_index = index + argument\n",
    "        return get_accumulator(instruction = instructions[next_index], index=next_index, accumulator = accumulator)\n",
    "    else:\n",
    "        next_index = index + 1\n",
    "        return get_accumulator(instruction = instructions[next_index], index=next_index, accumulator = accumulator)"
   ],
   "metadata": {
    "collapsed": false,
    "pycharm": {
     "name": "#%%\n"
    }
   }
  },
  {
   "cell_type": "code",
   "execution_count": 3,
   "outputs": [
    {
     "name": "stdout",
     "output_type": "stream",
     "text": [
      "The value of the accumulator is 1584\n"
     ]
    }
   ],
   "source": [
    "instructions = parse_input()\n",
    "accumulator_result = get_accumulator(instructions[0])\n",
    "print(f\"The value of the accumulator is {accumulator_result}\")"
   ],
   "metadata": {
    "collapsed": false,
    "pycharm": {
     "name": "#%%\n"
    }
   }
  },
  {
   "cell_type": "code",
   "execution_count": 3,
   "outputs": [],
   "source": [],
   "metadata": {
    "collapsed": false,
    "pycharm": {
     "name": "#%%\n"
    }
   }
  },
  {
   "cell_type": "code",
   "execution_count": 3,
   "outputs": [],
   "source": [],
   "metadata": {
    "collapsed": false,
    "pycharm": {
     "name": "#%%\n"
    }
   }
  }
 ],
 "metadata": {
  "kernelspec": {
   "display_name": "Python 3",
   "language": "python",
   "name": "python3"
  },
  "language_info": {
   "codemirror_mode": {
    "name": "ipython",
    "version": 2
   },
   "file_extension": ".py",
   "mimetype": "text/x-python",
   "name": "python",
   "nbconvert_exporter": "python",
   "pygments_lexer": "ipython2",
   "version": "2.7.6"
  }
 },
 "nbformat": 4,
 "nbformat_minor": 0
}