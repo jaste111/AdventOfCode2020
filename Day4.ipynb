{
 "cells": [
  {
   "cell_type": "code",
   "execution_count": 1,
   "metadata": {
    "collapsed": true
   },
   "outputs": [],
   "source": [
    "from typing import List\n",
    "def read_input():\n",
    "    day_4_input = []\n",
    "    with open(\"Input/Day4.txt\") as file:\n",
    "        passport = {}\n",
    "        for line in file:\n",
    "            if len(line) == 1:\n",
    "                day_4_input.append(passport)\n",
    "                passport = {}\n",
    "            else:\n",
    "                fields = line.split(\" \")\n",
    "                fields = [field.split(\":\") for field in fields]\n",
    "                for field in fields:\n",
    "                    passport[field[0]] = field[1]\n",
    "        day_4_input.append(passport)\n",
    "    return day_4_input"
   ]
  },
  {
   "cell_type": "code",
   "execution_count": 2,
   "outputs": [],
   "source": [
    "passports = read_input()"
   ],
   "metadata": {
    "collapsed": false,
    "pycharm": {
     "name": "#%%\n"
    }
   }
  },
  {
   "cell_type": "code",
   "execution_count": 3,
   "outputs": [],
   "source": [
    "valid_passports = [passport for passport in passports\n",
    "                  if (len(passport) == 8 or (len(passport)==7 and 'cid' not in passport.keys()))]"
   ],
   "metadata": {
    "collapsed": false,
    "pycharm": {
     "name": "#%%\n"
    }
   }
  },
  {
   "cell_type": "code",
   "execution_count": 4,
   "outputs": [
    {
     "name": "stdout",
     "output_type": "stream",
     "text": [
      "Number of valid passports: 250\n"
     ]
    }
   ],
   "source": [
    "print(f\"Number of valid passports: {len(valid_passports)}\")"
   ],
   "metadata": {
    "collapsed": false,
    "pycharm": {
     "name": "#%%\n"
    }
   }
  },
  {
   "cell_type": "code",
   "execution_count": 4,
   "outputs": [],
   "source": [],
   "metadata": {
    "collapsed": false,
    "pycharm": {
     "name": "#%%\n"
    }
   }
  }
 ],
 "metadata": {
  "kernelspec": {
   "display_name": "Python 3",
   "language": "python",
   "name": "python3"
  },
  "language_info": {
   "codemirror_mode": {
    "name": "ipython",
    "version": 2
   },
   "file_extension": ".py",
   "mimetype": "text/x-python",
   "name": "python",
   "nbconvert_exporter": "python",
   "pygments_lexer": "ipython2",
   "version": "2.7.6"
  }
 },
 "nbformat": 4,
 "nbformat_minor": 0
}