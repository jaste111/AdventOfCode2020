{
 "cells": [
  {
   "cell_type": "code",
   "execution_count": 1,
   "outputs": [],
   "source": [
    "from typing import List\n",
    "def read_input() -> List:\n",
    "    with open(\"Input/Day4.txt\") as file:\n",
    "        file_input =  file.readlines()\n",
    "        raw_input = [line[:-1] for line in file_input[:-1]]\n",
    "        raw_input.append(file_input[-1])\n",
    "        return raw_input\n"
   ],
   "metadata": {
    "collapsed": false,
    "pycharm": {
     "name": "#%%\n"
    }
   }
  },
  {
   "cell_type": "code",
   "execution_count": 2,
   "outputs": [],
   "source": [
    "\n",
    "# Part 1\n",
    "from typing import List\n",
    "def parse_data_part_1() -> List:\n",
    "    day_4_input = []\n",
    "    raw_input = read_input()\n",
    "    passport = {}\n",
    "    for line in raw_input:\n",
    "        if len(line) == 0:\n",
    "            day_4_input.append(passport)\n",
    "            passport = {}\n",
    "        else:\n",
    "            fields = line.split(\" \")\n",
    "            fields = [field.split(\":\") for field in fields]\n",
    "            for field in fields:\n",
    "                passport[field[0]] = field[1]\n",
    "    day_4_input.append(passport)\n",
    "    return day_4_input\n"
   ],
   "metadata": {
    "collapsed": false,
    "pycharm": {
     "name": "#%%\n"
    }
   }
  },
  {
   "cell_type": "code",
   "execution_count": 3,
   "outputs": [],
   "source": [
    "passports = parse_data_part_1()"
   ],
   "metadata": {
    "collapsed": false,
    "pycharm": {
     "name": "#%%\n"
    }
   }
  },
  {
   "cell_type": "code",
   "execution_count": 4,
   "outputs": [],
   "source": [
    "valid_passports = [passport for passport in passports\n",
    "                  if (len(passport) == 8 or (len(passport)==7 and 'cid' not in passport.keys()))]"
   ],
   "metadata": {
    "collapsed": false,
    "pycharm": {
     "name": "#%%\n"
    }
   }
  },
  {
   "cell_type": "code",
   "execution_count": 5,
   "outputs": [
    {
     "name": "stdout",
     "output_type": "stream",
     "text": [
      "Number of valid passports: 250\n"
     ]
    }
   ],
   "source": [
    "print(f\"Number of valid passports: {len(valid_passports)}\")"
   ],
   "metadata": {
    "collapsed": false,
    "pycharm": {
     "name": "#%%\n"
    }
   }
  },
  {
   "cell_type": "code",
   "execution_count": 6,
   "outputs": [],
   "source": [
    "# Part 2\n",
    "\n",
    "def is_byr_valid(byr: str) -> bool:\n",
    "    return 1920 <= int(byr) <= 2002"
   ],
   "metadata": {
    "collapsed": false,
    "pycharm": {
     "name": "#%%\n"
    }
   }
  },
  {
   "cell_type": "code",
   "execution_count": 7,
   "outputs": [
    {
     "name": "stdout",
     "output_type": "stream",
     "text": [
      "True\n",
      "False\n"
     ]
    }
   ],
   "source": [
    "print(is_byr_valid(\"2002\"))\n",
    "print(is_byr_valid(\"2003\"))"
   ],
   "metadata": {
    "collapsed": false,
    "pycharm": {
     "name": "#%%\n"
    }
   }
  },
  {
   "cell_type": "code",
   "execution_count": 8,
   "outputs": [],
   "source": [
    "def is_iyr_valid(iyr: str) -> bool:\n",
    "    return 2010 <= int(iyr) <= 2020\n"
   ],
   "metadata": {
    "collapsed": false,
    "pycharm": {
     "name": "#%%\n"
    }
   }
  },
  {
   "cell_type": "code",
   "execution_count": 9,
   "outputs": [],
   "source": [
    "def is_eyr_valid(eyr: str) -> bool:\n",
    "    return 2020 <= int(eyr) <=2030\n"
   ],
   "metadata": {
    "collapsed": false,
    "pycharm": {
     "name": "#%%\n"
    }
   }
  },
  {
   "cell_type": "code",
   "execution_count": 10,
   "outputs": [],
   "source": [
    "import re\n",
    "\n",
    "def is_hgt_valid(hgt: str) ->bool:\n",
    "    number_hgt = hgt[:-2]\n",
    "    if number_hgt == \"\":\n",
    "        return False\n",
    "    unit_hgt = hgt[-2:]\n",
    "    return (59 <= int(number_hgt) <=76 and unit_hgt == 'in') or (150 <= int(number_hgt) <= 193 and unit_hgt == 'cm')"
   ],
   "metadata": {
    "collapsed": false,
    "pycharm": {
     "name": "#%%\n"
    }
   }
  },
  {
   "cell_type": "code",
   "execution_count": 11,
   "outputs": [
    {
     "name": "stdout",
     "output_type": "stream",
     "text": [
      "True\n",
      "True\n",
      "False\n",
      "False\n"
     ]
    }
   ],
   "source": [
    "print(is_hgt_valid(hgt=\"60in\"))\n",
    "print(is_hgt_valid(hgt=\"190cm\"))\n",
    "print(is_hgt_valid(hgt=\"190in\"))\n",
    "print(is_hgt_valid(hgt=\"60\"))"
   ],
   "metadata": {
    "collapsed": false,
    "pycharm": {
     "name": "#%%\n"
    }
   }
  },
  {
   "cell_type": "code",
   "execution_count": 12,
   "outputs": [],
   "source": [
    "def is_hcl_valid(hcl: str) -> bool:\n",
    "    return len(hcl) == 7 and (re.fullmatch(\"^#([0-9]|[a-f])*\", hcl) is not None)"
   ],
   "metadata": {
    "collapsed": false,
    "pycharm": {
     "name": "#%%\n"
    }
   }
  },
  {
   "cell_type": "code",
   "execution_count": 13,
   "outputs": [
    {
     "name": "stdout",
     "output_type": "stream",
     "text": [
      "True\n",
      "True\n",
      "True\n",
      "False\n",
      "False\n"
     ]
    }
   ],
   "source": [
    "print(is_hcl_valid(hcl=\"#123abc\"))\n",
    "print(is_hcl_valid(hcl=\"#1f2abc\"))\n",
    "print(is_hcl_valid(hcl=\"#12ab2c\"))\n",
    "print(is_hcl_valid(hcl=\"#123abz\"))\n",
    "print(is_hcl_valid(hcl=\"123abc\"))"
   ],
   "metadata": {
    "collapsed": false,
    "pycharm": {
     "name": "#%%\n"
    }
   }
  },
  {
   "cell_type": "code",
   "execution_count": 14,
   "outputs": [],
   "source": [
    "def is_ecl_valid(ecl: str) -> bool:\n",
    "    return ecl in ('amb', 'blu', 'brn', 'gry', 'grn', 'hzl', 'oth')"
   ],
   "metadata": {
    "collapsed": false,
    "pycharm": {
     "name": "#%%\n"
    }
   }
  },
  {
   "cell_type": "code",
   "execution_count": 15,
   "outputs": [
    {
     "name": "stdout",
     "output_type": "stream",
     "text": [
      "True\n",
      "False\n"
     ]
    }
   ],
   "source": [
    "print(is_ecl_valid(ecl=\"brn\"))\n",
    "print(is_ecl_valid(ecl=\"wat\"))"
   ],
   "metadata": {
    "collapsed": false,
    "pycharm": {
     "name": "#%%\n"
    }
   }
  },
  {
   "cell_type": "code",
   "execution_count": 16,
   "outputs": [],
   "source": [
    "def is_pid_valid(pid: str) -> bool:\n",
    "    return len(pid) == 9 and (re.fullmatch(\"^[0-9]+\", pid) is not None)"
   ],
   "metadata": {
    "collapsed": false,
    "pycharm": {
     "name": "#%%\n"
    }
   }
  },
  {
   "cell_type": "code",
   "execution_count": 17,
   "outputs": [
    {
     "name": "stdout",
     "output_type": "stream",
     "text": [
      "True\n",
      "False\n"
     ]
    }
   ],
   "source": [
    "print(is_pid_valid(pid=\"000000001\"))\n",
    "print(is_pid_valid(pid=\"0123456789\"))"
   ],
   "metadata": {
    "collapsed": false,
    "pycharm": {
     "name": "#%%\n"
    }
   }
  },
  {
   "cell_type": "code",
   "execution_count": 18,
   "outputs": [],
   "source": [
    "def check_passport(passport: dict) -> bool:\n",
    "    return is_eyr_valid(passport[\"eyr\"]) and is_pid_valid(passport[\"pid\"]) and is_ecl_valid(passport[\"ecl\"]) \\\n",
    "           and is_hcl_valid(passport[\"hcl\"]) and is_hgt_valid(passport[\"hgt\"]) and is_eyr_valid(passport[\"eyr\"]) \\\n",
    "           and is_iyr_valid(passport[\"iyr\"]) and is_byr_valid(passport[\"byr\"])"
   ],
   "metadata": {
    "collapsed": false,
    "pycharm": {
     "name": "#%%\n"
    }
   }
  },
  {
   "cell_type": "code",
   "execution_count": 19,
   "outputs": [
    {
     "name": "stdout",
     "output_type": "stream",
     "text": [
      "Number of valid passports after check: 158\n"
     ]
    }
   ],
   "source": [
    "valid_passports_part_2 = list(filter(lambda  x: x,(map(check_passport, valid_passports))))\n",
    "print(f\"Number of valid passports after check: {len(valid_passports_part_2)}\")"
   ],
   "metadata": {
    "collapsed": false,
    "pycharm": {
     "name": "#%%\n"
    }
   }
  },
  {
   "cell_type": "code",
   "execution_count": 19,
   "outputs": [],
   "source": [],
   "metadata": {
    "collapsed": false,
    "pycharm": {
     "name": "#%%\n"
    }
   }
  }
 ],
 "metadata": {
  "kernelspec": {
   "display_name": "Python 3",
   "language": "python",
   "name": "python3"
  },
  "language_info": {
   "codemirror_mode": {
    "name": "ipython",
    "version": 2
   },
   "file_extension": ".py",
   "mimetype": "text/x-python",
   "name": "python",
   "nbconvert_exporter": "python",
   "pygments_lexer": "ipython2",
   "version": "2.7.6"
  }
 },
 "nbformat": 4,
 "nbformat_minor": 0
}