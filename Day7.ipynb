{
 "cells": [
  {
   "cell_type": "code",
   "execution_count": 1,
   "metadata": {
    "collapsed": true
   },
   "outputs": [],
   "source": [
    "from typing import List, Counter\n",
    "def read_input():\n",
    "    with open(\"Input/Day7.txt\") as file:\n",
    "        file_input = file.readlines()\n",
    "        raw_input = [line[:-1] for line in file_input[:-1]]\n",
    "        raw_input.append(file_input[-1])\n",
    "        return raw_input\n",
    "\n",
    "input_day7 = read_input()"
   ]
  },
  {
   "cell_type": "code",
   "execution_count": 2,
   "outputs": [],
   "source": [
    "def parse_data(rules :List) -> List:\n",
    "    bags_dict = {}\n",
    "    for rule in rules:\n",
    "        rule_parts = rule.split(\"contain\")\n",
    "        containing_bag = rule_parts[0]\n",
    "        contained_bags = rule_parts[1].split(\",\")\n",
    "        for contained_bag in contained_bags:\n",
    "            bag_color =\" \".join( contained_bag.split(\" \")[2:-1])\n",
    "            if bag_color in bags_dict.keys():\n",
    "                bags_dict[bag_color].append(\" \".join(containing_bag.split(\" \")[0:-2]))\n",
    "            else:\n",
    "                bags_dict[bag_color] = [\" \".join(containing_bag.split(\" \")[0:-2])]\n",
    "    return bags_dict"
   ],
   "metadata": {
    "collapsed": false,
    "pycharm": {
     "name": "#%%\n"
    }
   }
  },
  {
   "cell_type": "code",
   "execution_count": 3,
   "outputs": [],
   "source": [
    "contained_bags_dict = parse_data(rules=input_day7)\n"
   ],
   "metadata": {
    "collapsed": false,
    "pycharm": {
     "name": "#%%\n"
    }
   }
  },
  {
   "cell_type": "code",
   "execution_count": 4,
   "outputs": [],
   "source": [
    "def find_containing_bags(bags_dict: dict, bag: str):\n",
    "    result_list = []\n",
    "    temp_list = bags_dict[bag]\n",
    "    while len(temp_list) != 0:\n",
    "        result_list.extend(temp_list)\n",
    "        foo = []\n",
    "        [foo.extend(bags_dict[key]) for key in temp_list if key in bags_dict.keys()]\n",
    "        temp_list = foo\n",
    "    return Counter(result_list)"
   ],
   "metadata": {
    "collapsed": false,
    "pycharm": {
     "name": "#%%\n"
    }
   }
  },
  {
   "cell_type": "code",
   "execution_count": 5,
   "outputs": [
    {
     "name": "stdout",
     "output_type": "stream",
     "text": [
      "185 can contain at least one shiny gold bag\n"
     ]
    }
   ],
   "source": [
    "bag_colors_count = len(find_containing_bags(contained_bags_dict, \"shiny gold\"))\n",
    "print(f\"{bag_colors_count} can contain at least one shiny gold bag\")\n"
   ],
   "metadata": {
    "collapsed": false,
    "pycharm": {
     "name": "#%%\n"
    }
   }
  },
  {
   "cell_type": "code",
   "execution_count": 6,
   "outputs": [],
   "source": [
    "# Part 2\n",
    "\n"
   ],
   "metadata": {
    "collapsed": false,
    "pycharm": {
     "name": "#%%\n"
    }
   }
  },
  {
   "cell_type": "code",
   "execution_count": null,
   "outputs": [],
   "source": [],
   "metadata": {
    "collapsed": false,
    "pycharm": {
     "name": "#%%\n"
    }
   }
  }
 ],
 "metadata": {
  "kernelspec": {
   "display_name": "Python 3",
   "language": "python",
   "name": "python3"
  },
  "language_info": {
   "codemirror_mode": {
    "name": "ipython",
    "version": 2
   },
   "file_extension": ".py",
   "mimetype": "text/x-python",
   "name": "python",
   "nbconvert_exporter": "python",
   "pygments_lexer": "ipython2",
   "version": "2.7.6"
  }
 },
 "nbformat": 4,
 "nbformat_minor": 0
}